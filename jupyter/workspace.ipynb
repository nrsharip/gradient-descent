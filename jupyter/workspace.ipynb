{
 "cells": [
  {
   "cell_type": "code",
   "execution_count": 26,
   "metadata": {},
   "outputs": [
    {
     "data": {
      "text/latex": [
       "$\\displaystyle \\frac{2.82842712474619 x e^{- 0.14142135623731 \\sqrt{x^{2} + y^{2}}}}{\\sqrt{x^{2} + y^{2}}} + 1.0 \\pi e^{0.5 \\cos{\\left(2 \\pi x \\right)} + 0.5 \\cos{\\left(2 \\pi y \\right)}} \\sin{\\left(2 \\pi x \\right)}$"
      ],
      "text/plain": [
       "2.82842712474619*x*exp(-0.14142135623731*sqrt(x**2 + y**2))/sqrt(x**2 + y**2) + 1.0*pi*exp(0.5*cos(2*pi*x) + 0.5*cos(2*pi*y))*sin(2*pi*x)"
      ]
     },
     "execution_count": 26,
     "metadata": {},
     "output_type": "execute_result"
    }
   ],
   "source": [
    "from sympy import *\n",
    "import math\n",
    "\n",
    "x, y = symbols('x y', real=True)\n",
    "f = exp(1) + 20 - 20 * exp(-0.2*sqrt(0.5*(x*x + y*y))) - exp(0.5*(cos(2*pi*x) + cos(2*pi*y)))\n",
    "diff(f, x)"
   ]
  },
  {
   "cell_type": "code",
   "execution_count": 27,
   "metadata": {},
   "outputs": [
    {
     "data": {
      "text/latex": [
       "$\\displaystyle \\frac{2.82842712474619 y e^{- 0.14142135623731 \\sqrt{x^{2} + y^{2}}}}{\\sqrt{x^{2} + y^{2}}} + 1.0 \\pi e^{0.5 \\cos{\\left(2 \\pi x \\right)} + 0.5 \\cos{\\left(2 \\pi y \\right)}} \\sin{\\left(2 \\pi y \\right)}$"
      ],
      "text/plain": [
       "2.82842712474619*y*exp(-0.14142135623731*sqrt(x**2 + y**2))/sqrt(x**2 + y**2) + 1.0*pi*exp(0.5*cos(2*pi*x) + 0.5*cos(2*pi*y))*sin(2*pi*y)"
      ]
     },
     "execution_count": 27,
     "metadata": {},
     "output_type": "execute_result"
    }
   ],
   "source": [
    "diff(f, y)"
   ]
  },
  {
   "cell_type": "code",
   "execution_count": 24,
   "metadata": {},
   "outputs": [
    {
     "data": {
      "text/latex": [
       "$\\displaystyle 4 x \\left(x^{2} + y - 11\\right) + 2 x + 2 y^{2} - 14$"
      ],
      "text/plain": [
       "4*x*(x**2 + y - 11) + 2*x + 2*y**2 - 14"
      ]
     },
     "execution_count": 24,
     "metadata": {},
     "output_type": "execute_result"
    }
   ],
   "source": [
    "from sympy import *\n",
    "import math\n",
    "\n",
    "x, y = symbols('x y', real=True)\n",
    "f = (x*x + y - 11)**2 + (x + y*y - 7)**2\n",
    "diff(f, x)"
   ]
  },
  {
   "cell_type": "code",
   "execution_count": 25,
   "metadata": {},
   "outputs": [
    {
     "data": {
      "text/latex": [
       "$\\displaystyle 2 x^{2} + 4 y \\left(x + y^{2} - 7\\right) + 2 y - 22$"
      ],
      "text/plain": [
       "2*x**2 + 4*y*(x + y**2 - 7) + 2*y - 22"
      ]
     },
     "execution_count": 25,
     "metadata": {},
     "output_type": "execute_result"
    }
   ],
   "source": [
    "diff(f, y)"
   ]
  },
  {
   "cell_type": "code",
   "execution_count": 28,
   "metadata": {},
   "outputs": [
    {
     "data": {
      "text/latex": [
       "$\\displaystyle 1.0 x \\cos{\\left(2 x - e^{y} + 1 \\right)} \\cos{\\left(0.5 x^{2} - 0.25 y^{2} + 3 \\right)} - 2 \\sin{\\left(2 x - e^{y} + 1 \\right)} \\sin{\\left(0.5 x^{2} - 0.25 y^{2} + 3 \\right)}$"
      ],
      "text/plain": [
       "1.0*x*cos(2*x - exp(y) + 1)*cos(0.5*x**2 - 0.25*y**2 + 3) - 2*sin(2*x - exp(y) + 1)*sin(0.5*x**2 - 0.25*y**2 + 3)"
      ]
     },
     "execution_count": 28,
     "metadata": {},
     "output_type": "execute_result"
    }
   ],
   "source": [
    "from sympy import *\n",
    "import math\n",
    "\n",
    "x, y = symbols('x y', real=True)\n",
    "f = sin(0.5*x*x - 0.25*y*y + 3)*cos(2*x + 1 - exp(y))\n",
    "diff(f, x)"
   ]
  },
  {
   "cell_type": "code",
   "execution_count": 29,
   "metadata": {},
   "outputs": [
    {
     "data": {
      "text/latex": [
       "$\\displaystyle - 0.5 y \\cos{\\left(2 x - e^{y} + 1 \\right)} \\cos{\\left(0.5 x^{2} - 0.25 y^{2} + 3 \\right)} + e^{y} \\sin{\\left(2 x - e^{y} + 1 \\right)} \\sin{\\left(0.5 x^{2} - 0.25 y^{2} + 3 \\right)}$"
      ],
      "text/plain": [
       "-0.5*y*cos(2*x - exp(y) + 1)*cos(0.5*x**2 - 0.25*y**2 + 3) + exp(y)*sin(2*x - exp(y) + 1)*sin(0.5*x**2 - 0.25*y**2 + 3)"
      ]
     },
     "execution_count": 29,
     "metadata": {},
     "output_type": "execute_result"
    }
   ],
   "source": [
    "diff(f, y)"
   ]
  },
  {
   "cell_type": "code",
   "execution_count": null,
   "metadata": {},
   "outputs": [],
   "source": []
  }
 ],
 "metadata": {
  "kernelspec": {
   "display_name": "Python 3",
   "language": "python",
   "name": "python3"
  },
  "language_info": {
   "codemirror_mode": {
    "name": "ipython",
    "version": 3
   },
   "file_extension": ".py",
   "mimetype": "text/x-python",
   "name": "python",
   "nbconvert_exporter": "python",
   "pygments_lexer": "ipython3",
   "version": "3.8.1"
  }
 },
 "nbformat": 4,
 "nbformat_minor": 4
}
